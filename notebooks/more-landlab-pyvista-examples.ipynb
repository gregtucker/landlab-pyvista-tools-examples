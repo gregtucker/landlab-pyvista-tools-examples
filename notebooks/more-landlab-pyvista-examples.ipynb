{
 "cells": [
  {
   "cell_type": "markdown",
   "id": "acbaf0b9-e0fd-453c-bcdc-b1d63269009b",
   "metadata": {},
   "source": [
    "# Landlab and PyVista: further examples\n",
    "\n",
    "*(Greg Tucker, University of Colorado Boulder, USA, July 2025)*\n",
    "\n",
    "This notebook presents more extensive examples of visualizing Landlab output using PyVista. It builds on two previous notebooks, which should be reviewed first: *Translating a Landlab RasterModelGrid into a PyVista StructuredGrid for visualization* and *Translating a Landlab non-raster grid into PyVista for visualization*."
   ]
  },
  {
   "cell_type": "code",
   "execution_count": null,
   "id": "764cd2a4-d736-404d-8225-24d0a6f61cdb",
   "metadata": {},
   "outputs": [],
   "source": []
  },
  {
   "cell_type": "code",
   "execution_count": null,
   "id": "200064f3-9b27-47e7-b1e0-f67dc51848c6",
   "metadata": {},
   "outputs": [],
   "source": []
  },
  {
   "cell_type": "markdown",
   "id": "471576f5-00f2-4c7d-aa5f-2d02ef7eaafc",
   "metadata": {},
   "source": [
    "some things on the to-do list:\n",
    "- hex grids\n",
    "- framed voronoi grids\n",
    "- animation\n",
    "- flow routing\n",
    "- drainage nets as lines\n",
    "- sea level\n",
    "- multiple surfaces with transparency\n",
    "- vectors\n",
    "\n",
    "what examples would be good?\n",
    "- landscape evolution with carbonate accumulation and layers: good for SL, multiple layers, flow routing, drainage net\n",
    "- submarine diffuser making a shoreline notch and perhaps terraces?\n",
    "- tidal flow (hex): good for SL, vectors/quivers, coloration by water depth\n",
    "- groundwater (works w/ hex?): good for viewing wt and terrain simultaneously\n",
    "- mwr: good for viewing the deposit and original terrain underneath\n",
    "- rfd: good for water surface and bed and shear stress (but hex or fvg?)\n",
    "- lke: good for viz of fault below terrain"
   ]
  },
  {
   "cell_type": "markdown",
   "id": "a2735e63-bbd7-4032-85b8-50c21e355fc0",
   "metadata": {},
   "source": [
    "## Example of a listric normal fault"
   ]
  },
  {
   "cell_type": "code",
   "execution_count": null,
   "id": "76f96a91-95af-4e86-85c8-4ed91daa5a94",
   "metadata": {},
   "outputs": [],
   "source": [
    "import matplotlib.pyplot as plt\n",
    "import numpy as np\n",
    "import pyvista as pv\n",
    "\n",
    "from landlab import HexModelGrid, imshow_grid\n",
    "from landlab.components import ListricKinematicExtender\n",
    "from llpvtools import grid_to_pv"
   ]
  },
  {
   "cell_type": "code",
   "execution_count": null,
   "id": "6111284e-ade4-4332-9f58-3fb504031f34",
   "metadata": {},
   "outputs": [],
   "source": [
    "# parameters\n",
    "nrows = 31\n",
    "ncols = 51\n",
    "dx = 1000.0  # grid spacing, m\n",
    "nsteps = 20  # number of iterations\n",
    "dt = 2.5e5  # time step, y\n",
    "extension_rate = 0.001  # m/y\n",
    "detachment_depth = 10000.0  # m\n",
    "fault_dip = 60.0  # fault dip angle, degrees\n",
    "fault_x0 = 10000.0  # m from left side of model\n",
    "fault_strike = 60.0  # strike, degrees ccw from east\n",
    "period = 15000.0  # period of sinusoidal variations in initial topography, m\n",
    "ampl = 500.0  # amplitude of variations, m"
   ]
  },
  {
   "cell_type": "code",
   "execution_count": null,
   "id": "f6df7aff-c449-49d5-87fa-be83b7830386",
   "metadata": {},
   "outputs": [],
   "source": [
    "# Create grid and elevation field\n",
    "grid = HexModelGrid((nrows, ncols), spacing=dx, node_layout=\"rect\")\n",
    "\n",
    "elev = grid.add_zeros(\"topographic__elevation\", at=\"node\")\n",
    "elev[:] = (\n",
    "    ampl\n",
    "    * np.sin(2 * np.pi * grid.x_of_node / period)\n",
    "    * np.sin(2 * np.pi * grid.y_of_node / period)\n",
    ")\n",
    "\n",
    "# Instantiate component\n",
    "extender = ListricKinematicExtender(\n",
    "    grid,\n",
    "    extension_rate_x=extension_rate,\n",
    "    extension_rate_y=0.0,\n",
    "    fault_dip=fault_dip,\n",
    "    fault_strike=fault_strike,\n",
    "    fault_x0=fault_x0,\n",
    "    fault_y0=0.0,\n",
    "    detachment_depth=detachment_depth,\n",
    ")\n",
    "\n",
    "# Run\n",
    "for i in range(nsteps):\n",
    "    extender.run_one_step(dt)"
   ]
  },
  {
   "cell_type": "code",
   "execution_count": null,
   "id": "93789677-3caf-4dd4-bcef-0ca7bf4669a3",
   "metadata": {},
   "outputs": [],
   "source": [
    "topomeshn, _ = grid_to_pv(grid, field_for_node_z=elev, field_for_corner_z=0.0)"
   ]
  },
  {
   "cell_type": "code",
   "execution_count": null,
   "id": "9e8b56f4-e016-47a2-a880-a7b895351748",
   "metadata": {},
   "outputs": [],
   "source": [
    "faultmeshn, _ = grid_to_pv(\n",
    "    grid, field_for_node_z=\"fault_plane__elevation\", field_for_corner_z=0.0\n",
    ")"
   ]
  },
  {
   "cell_type": "code",
   "execution_count": null,
   "id": "0ce620c5-76db-445d-92c4-3f298e5303ee",
   "metadata": {
    "scrolled": true
   },
   "outputs": [],
   "source": [
    "topomeshn.set_active_scalars(\"topographic__elevation\")\n",
    "faultmeshn.set_active_scalars(\"fault_plane__elevation\")\n",
    "fault_elev = grid.at_node[\"fault_plane__elevation\"]\n",
    "cmin = np.amin(fault_elev)\n",
    "cmax = np.amax(fault_elev)\n",
    "\n",
    "pvp = pv.Plotter()\n",
    "pvp.add_mesh(topomeshn, opacity=0.6, clim=[cmin, cmax], show_edges=True, cmap='autumn')\n",
    "pvp.add_mesh(faultmeshn, opacity=0.6, show_edges=True, cmap='autumn')\n",
    "pvp.show()"
   ]
  },
  {
   "cell_type": "code",
   "execution_count": null,
   "id": "b22b7386-7ca8-490a-af4f-1e535d3b9c7d",
   "metadata": {},
   "outputs": [],
   "source": []
  },
  {
   "cell_type": "code",
   "execution_count": null,
   "id": "1a3aa5e9-f226-4934-ac3e-578f39da7666",
   "metadata": {},
   "outputs": [],
   "source": []
  },
  {
   "cell_type": "code",
   "execution_count": null,
   "id": "5723e618-ebb4-40f1-bb53-4e70976cb333",
   "metadata": {},
   "outputs": [],
   "source": [
    "import matplotlib.pyplot as plt\n",
    "import numpy as np\n",
    "\n",
    "from landlab import HexModelGrid, imshow_grid\n",
    "from landlab.components import ListricKinematicExtender\n",
    "from llpvtools import grid_to_pv"
   ]
  },
  {
   "cell_type": "code",
   "execution_count": null,
   "id": "fc4751d1-9384-4ae7-a016-8073e6dc13fb",
   "metadata": {},
   "outputs": [],
   "source": [
    "# Grid parameters\n",
    "nrows = 260\n",
    "ncols = 150\n",
    "dx = 4.0\n",
    "elev_name = \"tidal_example_elevs_hex260x150rect_4m.txt\"\n",
    "\n",
    "# Set tidal flow parameters (these are from the MarshMorpho2D source code)\n",
    "tidal_period = 12.5 * 3600.0  # tidal period in seconds\n",
    "tidal_range = 3.1  # tidal range in meters\n",
    "roughness = 0.02  # Manning's n\n",
    "mean_sea_level = 0.0  # mean sea level in meters\n",
    "min_water_depth = (\n",
    "    0.01  # minimum depth for water on areas higher than low tide water surface, meters\n",
    ")\n",
    "nodata_code = 7.5  # code for a DEM cell with no valid data"
   ]
  },
  {
   "cell_type": "code",
   "execution_count": null,
   "id": "fdaa39fb-cddd-412c-b84f-ef98ce2bcac3",
   "metadata": {},
   "outputs": [],
   "source": [
    "# Create grid\n",
    "tidal_grid = HexModelGrid((260, 150), spacing=4.0, node_layout=\"rect\")\n",
    "z = tidal_grid.add_zeros(\"topographic__elevation\", at=\"node\")\n",
    "\n",
    "# Read the elevations\n",
    "z[:] = np.loadtxt(elev_name)\n",
    "\n",
    "# Configure boundaries: any nodata nodes, plus any nodes higher than mean high tide\n",
    "tidal_grid.status_at_node[z == nodata_code] = tidal_grid.BC_NODE_IS_CLOSED\n",
    "tidal_grid.status_at_node[z > 1.8] = tidal_grid.BC_NODE_IS_CLOSED\n",
    "boundaries_above_msl = np.logical_and(\n",
    "    tidal_grid.status_at_node == tidal_grid.BC_NODE_IS_FIXED_VALUE, z > 0.0\n",
    ")\n",
    "tidal_grid.status_at_node[boundaries_above_msl] = tidal_grid.BC_NODE_IS_CLOSED\n",
    "\n",
    "imshow_grid(tidal_grid, z)"
   ]
  },
  {
   "cell_type": "code",
   "execution_count": null,
   "id": "d2b38e31-3679-4605-a53c-93c00c3c6869",
   "metadata": {},
   "outputs": [],
   "source": [
    "# Instantiate a TidalFlowCalculator component\n",
    "tfc = TidalFlowCalculator(\n",
    "    tidal_grid,\n",
    "    tidal_period=tidal_period,\n",
    "    tidal_range=tidal_range,\n",
    "    roughness=roughness,\n",
    "    mean_sea_level=mean_sea_level,\n",
    "    min_water_depth=min_water_depth,\n",
    ")\n",
    "\n",
    "# Calculate tidal flow\n",
    "tfc.run_one_step()\n",
    "\n",
    "print(tidal_grid.at_node.keys())\n",
    "print(tidal_grid.at_cell.keys())"
   ]
  },
  {
   "cell_type": "code",
   "execution_count": null,
   "id": "cbf14846-b4ac-4489-9328-8a98085ed604",
   "metadata": {},
   "outputs": [],
   "source": [
    "tgridn, tgridc = grid_to_pv(tidal_grid, field_for_node_z=z, field_for_corner_z=0.0)"
   ]
  },
  {
   "cell_type": "code",
   "execution_count": null,
   "id": "89d27c09-7c9c-411b-9db0-5109fe90681c",
   "metadata": {},
   "outputs": [],
   "source": [
    "tidal_grid.at_node.keys()"
   ]
  },
  {
   "cell_type": "code",
   "execution_count": null,
   "id": "7ecfc2ce-b4fe-4ff8-bb8e-0273ce148416",
   "metadata": {},
   "outputs": [],
   "source": [
    "tgridn.set_active_scalars(\"mean_water__depth\")\n",
    "tgridn.plot()"
   ]
  },
  {
   "cell_type": "markdown",
   "id": "c079d480-ae3e-4fa0-9cc8-c571bb8769b9",
   "metadata": {},
   "source": [
    "From here:\n",
    "\n",
    "- Translate to PyVista objects for:\n",
    "  - Elevation of ground\n",
    "  - Water surface elevation\n",
    "- Make a PyVista plot that shows both the elevations and the water surface (with some transparency)\n",
    "- Try mapping vectors to nodes and plotting quivers"
   ]
  },
  {
   "cell_type": "code",
   "execution_count": null,
   "id": "a362ca4f-f4c6-4641-a22e-d874aed3be59",
   "metadata": {},
   "outputs": [],
   "source": [
    "z[z==10.0] = 0.0\n",
    "print(np.amax(z))"
   ]
  },
  {
   "cell_type": "code",
   "execution_count": null,
   "id": "b44b21f1-2057-42ba-b4b0-5e6643082ec0",
   "metadata": {},
   "outputs": [],
   "source": [
    "\n",
    "# Instantiate a TidalFlowCalculator component\n",
    "tfc = TidalFlowCalculator(\n",
    "    grid,\n",
    "    tidal_period=tidal_period,\n",
    "    tidal_range=tidal_range,\n",
    "    roughness=roughness,\n",
    "    mean_sea_level=mean_sea_level,\n",
    "    min_water_depth=min_water_depth,\n",
    ")\n",
    "\n",
    "# Calculate tidal flow\n",
    "tfc.run_one_step()\n",
    "\n",
    "# make plots...\n",
    "plot_tidal_flow(grid, resample=5)"
   ]
  }
 ],
 "metadata": {
  "kernelspec": {
   "display_name": "Python 3 (ipykernel)",
   "language": "python",
   "name": "python3"
  },
  "language_info": {
   "codemirror_mode": {
    "name": "ipython",
    "version": 3
   },
   "file_extension": ".py",
   "mimetype": "text/x-python",
   "name": "python",
   "nbconvert_exporter": "python",
   "pygments_lexer": "ipython3",
   "version": "3.13.3"
  }
 },
 "nbformat": 4,
 "nbformat_minor": 5
}

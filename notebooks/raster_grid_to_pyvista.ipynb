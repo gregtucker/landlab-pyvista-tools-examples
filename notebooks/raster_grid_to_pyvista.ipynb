{
 "cells": [
  {
   "cell_type": "markdown",
   "id": "1af4e26d-188a-4be8-b34a-fbead5bd2707",
   "metadata": {},
   "source": [
    "# Translating a Landlab RasterModelGrid into a PyVista StructuredGrid for visualization\n",
    "\n",
    "*Greg Tucker, CU Boulder, June 2025*\n",
    "\n",
    "PyVista offers powerful 3D visualization capabilities for geoscientific data. This notebook demonstrates how to use a set of utilities I've written that translate data from a Landlab `RasterModelGrid` and its fields into a PyVista `StructuredGrid`, which can then be visualized interactively directly in a notebook.\n",
    "\n",
    "The `llpytools` package offers a function called `grid_to_pv` that translates the contents of a Landlab grid and its fields into (generally) two PyVista mesh objects, one for each of the two dual meshes that compose most Landlab grids. In one of the resulting PyVista meshes, the points are Landlab grid *nodes* and the cells are Landlab grid *patches*. In the other, the points are Landlab grid *corners* and the cells are Landlab grid *cells*.\n",
    "\n",
    "Start with some imports:"
   ]
  },
  {
   "cell_type": "code",
   "execution_count": null,
   "id": "95a15b8a-1873-4212-975a-9137e91efdc4",
   "metadata": {},
   "outputs": [],
   "source": [
    "import numpy as np\n",
    "import pyvista as pv\n",
    "from llpvtools import grid_to_pv\n",
    "from landlab import RasterModelGrid, imshow_grid"
   ]
  },
  {
   "cell_type": "markdown",
   "id": "c705d786-1e17-4246-9a9a-918cb634cefa",
   "metadata": {},
   "source": [
    "## Creating a simple example\n",
    "\n",
    "Here we'll use the same example that appears in one of the PyVista tutorials, but here created initially as a landlab `RasterModelGrid`. We'll assign two fields: the topographic elevation (which will be the $z$ coordinate for our surface), and the gradient. \n",
    "\n",
    "To illustrate use of *corners* instead of *nodes*, we'll also assign a field for elevation and gradient values at corners."
   ]
  },
  {
   "cell_type": "code",
   "execution_count": null,
   "id": "c5a1ec19-0ec3-4cd3-ba6d-e5666818d5e9",
   "metadata": {},
   "outputs": [],
   "source": [
    "rmg = RasterModelGrid((80, 80), 0.25, xy_of_lower_left=(-10.0, -10.0))\n",
    "\n",
    "z = rmg.add_zeros(\"topographic__elevation\", at=\"node\")\n",
    "s = rmg.add_zeros(\"topographic__gradient\", at=\"node\")\n",
    "zc = rmg.add_zeros(\"z_at_corners\", at=\"corner\")\n",
    "sc = rmg.add_zeros(\"gradient_at_corners\", at=\"corner\")\n",
    "\n",
    "# Create a rippled surface, same as in PyVista tutorial\n",
    "x = rmg.x_of_node\n",
    "y = rmg.y_of_node\n",
    "r = np.sqrt(x**2 + y**2)\n",
    "z[:] = np.sin(r)\n",
    "\n",
    "# Calculate the gradient in the y-direction\n",
    "dy, _ = np.gradient(z.reshape((80, 80)))\n",
    "s[:] = dy.flatten()\n",
    "\n",
    "# Rippled surface for corners\n",
    "xc = rmg.x_of_corner\n",
    "yc = rmg.y_of_corner\n",
    "rc = np.sqrt(xc**2 + yc**2)\n",
    "zc[:] = np.sin(rc)\n",
    "\n",
    "# and gradient\n",
    "dyc, _ = np.gradient(zc.reshape((79, 79)))\n",
    "sc[:] = dyc.flatten()"
   ]
  },
  {
   "cell_type": "code",
   "execution_count": null,
   "id": "98995bb7-3c04-48f2-82b6-b0c077313e59",
   "metadata": {},
   "outputs": [],
   "source": [
    "imshow_grid(rmg, z)"
   ]
  },
  {
   "cell_type": "code",
   "execution_count": null,
   "id": "18647d7a-9c80-4d16-81b5-f06cf0cde508",
   "metadata": {},
   "outputs": [],
   "source": [
    "imshow_grid(rmg, s)"
   ]
  },
  {
   "cell_type": "markdown",
   "id": "9f16b082-aea6-4946-a235-94266569ba80",
   "metadata": {},
   "source": [
    "## Visualizing a landlab raster grid as a 2D surface\n",
    "\n",
    "The function `grid_to_pv` translates a Landlab grid into PyVista. When passed a Landlab `RasterModelGrid`, the function will by default create a pair of 2D PyVista `StructuredGrid` objects, each representing a surface: one formed from grid *nodes* (which are vertices of *patches*), and one formed of grid *corners* (which are vertices of grid *cells*). The grid's fields are included in the data structures as **Data Arrays**. Specifically, any node- or patch-based fields are attached to the node-based PyVista mesh, and any corner- or cell-based fields are attached to the corner-based mesh."
   ]
  },
  {
   "cell_type": "code",
   "execution_count": null,
   "id": "9fa0792a-dde2-49ab-8559-cc88618d8483",
   "metadata": {},
   "outputs": [],
   "source": [
    "node_mesh, cnr_mesh = grid_to_pv(\n",
    "    rmg, field_for_node_z=\"topographic__elevation\", field_for_corner_z=\"z_at_corners\"\n",
    ")\n",
    "node_mesh"
   ]
  },
  {
   "cell_type": "markdown",
   "id": "4926034c-5972-44bc-b385-e2f862dd6120",
   "metadata": {},
   "source": [
    "The above text displays information about one of the two PyVista `StructuredGrid` objects. Note the dimensions 80 x 80 x 1: an 80 x 80 arrangement of grid nodes with one layer.\n",
    "\n",
    "The mesh can be viewed interactively using its `plot()` method:"
   ]
  },
  {
   "cell_type": "code",
   "execution_count": null,
   "id": "8667612a-959a-4ca3-b78b-0cba396d1925",
   "metadata": {},
   "outputs": [],
   "source": [
    "node_mesh.plot(show_edges=True)"
   ]
  },
  {
   "cell_type": "markdown",
   "id": "b1891abc-d503-40b9-a363-e616044bf73e",
   "metadata": {},
   "source": [
    "To color by a different field, use the `set_active_scalars()` method:"
   ]
  },
  {
   "cell_type": "code",
   "execution_count": null,
   "id": "290ede7e-03cf-49e5-b326-59eebe5e734b",
   "metadata": {},
   "outputs": [],
   "source": [
    "node_mesh.set_active_scalars('topographic__elevation')\n",
    "node_mesh.plot(show_edges=True)"
   ]
  },
  {
   "cell_type": "markdown",
   "id": "84847e35-62b1-476f-aa99-be1584f98181",
   "metadata": {},
   "source": [
    "We can also deactivate coloring:"
   ]
  },
  {
   "cell_type": "code",
   "execution_count": null,
   "id": "3dcda505-5654-4491-b911-cb6cbe80a384",
   "metadata": {},
   "outputs": [],
   "source": [
    "node_mesh.set_active_scalars(None)\n",
    "node_mesh.plot(show_edges=True)"
   ]
  },
  {
   "cell_type": "markdown",
   "id": "fa7460e6-4294-4f48-bafc-a9321fa0db5d",
   "metadata": {},
   "source": [
    "The above examples use the landlab grid's *nodes* and *patches*. We can also use *corners* and *cells*. The second PyVista mesh returned by `grid_to_pv` consists of 79 by 79 points, which is the shape of *corners* in the Landlab grid (one fewer than nodes in each dimension)."
   ]
  },
  {
   "cell_type": "code",
   "execution_count": null,
   "id": "a3794050-4b4d-4b80-aa23-46b2481798c0",
   "metadata": {},
   "outputs": [],
   "source": [
    "cnr_mesh"
   ]
  },
  {
   "cell_type": "code",
   "execution_count": null,
   "id": "f0c9c599-60bb-4cf0-94ab-2f8d05b3d8fe",
   "metadata": {},
   "outputs": [],
   "source": [
    "cnr_mesh.plot(show_edges=True)"
   ]
  },
  {
   "cell_type": "markdown",
   "id": "2517312d-5f51-49ea-a9db-857febfae980",
   "metadata": {},
   "source": [
    "## Created a 3D mesh object\n",
    "\n",
    "To create a 3D mesh object, you can pass the argument `make3d=True` to `grid_to_pv`. The resulting meshes each have two layers. The top layer is the topography (or, more generally, whatever field we happened to use for the $z$ coordinate). The bottom layer can be flat (constant $z$ value), or it can be assigned an array of values or an existing field. The default setting is to make the bottom flat, with a depth $h$ below the lowest surface point, where $h$ equal to half the widest extent of the grid."
   ]
  },
  {
   "cell_type": "code",
   "execution_count": null,
   "id": "2e266b1f-80e4-4423-a4fe-737a6652b047",
   "metadata": {},
   "outputs": [],
   "source": [
    "node_3d_mesh, cnr_3d_mesh = grid_to_pv(\n",
    "    rmg,\n",
    "    field_for_node_z=\"topographic__elevation\",\n",
    "    field_for_corner_z=\"z_at_corners\",\n",
    "    make3d=True\n",
    ")\n",
    "node_3d_mesh"
   ]
  },
  {
   "cell_type": "code",
   "execution_count": null,
   "id": "761ffbf6-c6eb-4371-9fa2-852dea44aec5",
   "metadata": {
    "scrolled": true
   },
   "outputs": [],
   "source": [
    "node_3d_mesh.plot(show_edges=True)"
   ]
  },
  {
   "cell_type": "markdown",
   "id": "a677ca57-8552-4ffe-a9d0-a875b11bc759",
   "metadata": {},
   "source": [
    "### Using a field or array as the base of a 3d mesh\n",
    "\n",
    "For the bottom layer of a 3d mesh, you can use a constant value, an array (of length equal to the number of nodes or corners), or a field. Here we'll add a field (an inverse of the topography, offset downward) and use it as the base."
   ]
  },
  {
   "cell_type": "code",
   "execution_count": null,
   "id": "fc57baae-f441-4531-a949-3323a44c44dd",
   "metadata": {},
   "outputs": [],
   "source": [
    "# add a field\n",
    "rmg.add_field(\"subsurface_layer\", (1.0 - z) - 5.0, at=\"node\")\n",
    "\n",
    "# convert to meshes, this time using the \"subsurface_layer\" field as the base for\n",
    "# the node mesh\n",
    "node_3d_mesh, cnr_3d_mesh = grid_to_pv(\n",
    "    rmg,\n",
    "    field_for_node_z=\"topographic__elevation\",\n",
    "    field_for_corner_z=\"z_at_corners\",\n",
    "    make3d=True,\n",
    "    values_for_node_base=\"subsurface_layer\"\n",
    ")\n",
    "node_3d_mesh.plot(show_edges=True)"
   ]
  },
  {
   "cell_type": "markdown",
   "id": "4bc982eb-bf30-46cf-9e3e-4bf240068989",
   "metadata": {},
   "source": [
    "## Combining node-link-patch and corner-face-cell meshes in a Plotter\n",
    "\n",
    "The example below plots both of the Landlab dual meshes together: the nodes-links-patches mesh and the corners-faces-cells mesh. In this example, nodes are shown in black, links in red, faces in blue."
   ]
  },
  {
   "cell_type": "code",
   "execution_count": null,
   "id": "e8bc0f7b-bac8-40f2-ad88-e615af55b933",
   "metadata": {},
   "outputs": [],
   "source": [
    "pl = pv.Plotter()\n",
    "pl.add_mesh(node_mesh, color=\"red\", style=\"wireframe\", line_width=1)\n",
    "pl.add_mesh(cnr_mesh, color=\"blue\", style=\"wireframe\", line_width=1)\n",
    "pl.add_points(\n",
    "    node_mesh.points, color='black', point_size=4, render_points_as_spheres=True\n",
    ")\n",
    "pl.show()"
   ]
  },
  {
   "cell_type": "markdown",
   "id": "29698a9c-f1dc-4fc4-b94c-dedb6a06968f",
   "metadata": {},
   "source": [
    "## Options\n",
    "\n",
    "The function signature for `grid_to_pv` illustrates the available optional parameters:"
   ]
  },
  {
   "cell_type": "code",
   "execution_count": null,
   "id": "08d48ddd-dcc6-4ef2-aa91-cc454e487134",
   "metadata": {},
   "outputs": [],
   "source": [
    "help(grid_to_pv)"
   ]
  },
  {
   "cell_type": "markdown",
   "id": "59fe474f-01de-49be-9ca9-1a021fc2d174",
   "metadata": {},
   "source": [
    "Coming soon (geologically), I hope, will be:\n",
    "\n",
    "- Functions to do similar translation for other Landlab grid types\n",
    "- Examples of how to read Landlab output in .vtk format directly into a PyVista data structure\n",
    "- The ability to translate fields on cells or patches\n",
    "- Some kind of widget-like tools to flip between different fields\n",
    "- A way to provide time-animation\n",
    "- A function to represent a drainage network as a mesh of line segments\n",
    "- A way to include vector data using arrow glyphs or similar (e.g., flow velocity, sediment transport, etc.)\n",
    "- EPIC: a reasonably comprehensive visualization tool/widget-set for visualizing landlab output generally"
   ]
  }
 ],
 "metadata": {
  "kernelspec": {
   "display_name": "Python 3 (ipykernel)",
   "language": "python",
   "name": "python3"
  },
  "language_info": {
   "codemirror_mode": {
    "name": "ipython",
    "version": 3
   },
   "file_extension": ".py",
   "mimetype": "text/x-python",
   "name": "python",
   "nbconvert_exporter": "python",
   "pygments_lexer": "ipython3",
   "version": "3.13.3"
  }
 },
 "nbformat": 4,
 "nbformat_minor": 5
}

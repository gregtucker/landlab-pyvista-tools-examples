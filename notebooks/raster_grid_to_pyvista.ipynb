{
 "cells": [
  {
   "cell_type": "markdown",
   "id": "1af4e26d-188a-4be8-b34a-fbead5bd2707",
   "metadata": {},
   "source": [
    "# Translating a Landlab RasterModelGrid into a PyVista StructuredGrid for visualization\n",
    "\n",
    "*Greg Tucker, CU Boulder, June 2025*\n",
    "\n",
    "PyVista offers powerful 3D visualization capabilities for geoscientific data. This notebook demonstrates how to use a set of utilities I've written that translate data from a Landlab `RasterModelGrid` and its fields into a PyVista `StructuredGrid`, which can then be visualized interactively directly in a notebook.\n",
    "\n",
    "For a `RasterModelGrid`, the package offers two closely related functions:\n",
    "\n",
    "- `raster_grid_to_pv2d_struct` creates a 2D mesh surface\n",
    "- `raster_grid_to_pv3d_struct` creates a 3D mesh, with two levels: the topography on top, and (by default) a flat base on the bottom\n",
    "\n",
    "Start with some imports:"
   ]
  },
  {
   "cell_type": "code",
   "execution_count": null,
   "id": "95a15b8a-1873-4212-975a-9137e91efdc4",
   "metadata": {},
   "outputs": [],
   "source": [
    "import numpy as np\n",
    "import pyvista as pv\n",
    "from llpvtools import raster_grid_to_pv2d_struct, raster_grid_to_pv3d_struct\n",
    "from landlab import RasterModelGrid, imshow_grid"
   ]
  },
  {
   "cell_type": "markdown",
   "id": "c705d786-1e17-4246-9a9a-918cb634cefa",
   "metadata": {},
   "source": [
    "## Creating a simple example\n",
    "\n",
    "Here we'll use the same example that appears in one of the PyVista tutorials, but here created initially as a landlab `RasterModelGrid`. We'll assign two fields: the topographic elevation (which will be the $z$ coordinate for our surface), and the gradient. \n",
    "\n",
    "To illustrate use of *corners* instead of *nodes*, we'll also assign a field for elevation and gradient values at corners."
   ]
  },
  {
   "cell_type": "code",
   "execution_count": null,
   "id": "c5a1ec19-0ec3-4cd3-ba6d-e5666818d5e9",
   "metadata": {},
   "outputs": [],
   "source": [
    "rmg = RasterModelGrid((80, 80), 0.25, xy_of_lower_left=(-10.0, -10.0))\n",
    "\n",
    "z = rmg.add_zeros(\"topographic__elevation\", at=\"node\")\n",
    "s = rmg.add_zeros(\"topographic__gradient\", at=\"node\")\n",
    "zc = rmg.add_zeros(\"z_at_corners\", at=\"corner\")\n",
    "sc = rmg.add_zeros(\"gradient_at_corners\", at=\"corner\")\n",
    "\n",
    "# Create a rippled surface, same as in PyVista tutorial\n",
    "x = rmg.x_of_node\n",
    "y = rmg.y_of_node\n",
    "r = np.sqrt(x**2 + y**2)\n",
    "z[:] = np.sin(r)\n",
    "\n",
    "# Calculate the gradient in the y-direction\n",
    "dy, _ = np.gradient(z.reshape((80, 80)))\n",
    "s[:] = dy.flatten()\n",
    "\n",
    "# Rippled surface for corners\n",
    "xc = rmg.x_of_corner\n",
    "yc = rmg.y_of_corner\n",
    "rc = np.sqrt(xc**2 + yc**2)\n",
    "zc[:] = np.sin(rc)\n",
    "\n",
    "# and gradient\n",
    "dyc, _ = np.gradient(zc.reshape((79, 79)))\n",
    "sc[:] = dyc.flatten()"
   ]
  },
  {
   "cell_type": "code",
   "execution_count": null,
   "id": "98995bb7-3c04-48f2-82b6-b0c077313e59",
   "metadata": {},
   "outputs": [],
   "source": [
    "imshow_grid(rmg, z)"
   ]
  },
  {
   "cell_type": "code",
   "execution_count": null,
   "id": "18647d7a-9c80-4d16-81b5-f06cf0cde508",
   "metadata": {},
   "outputs": [],
   "source": [
    "imshow_grid(rmg, s)"
   ]
  },
  {
   "cell_type": "markdown",
   "id": "9f16b082-aea6-4946-a235-94266569ba80",
   "metadata": {},
   "source": [
    "## Visualizing a landlab raster grid as a 2D surface\n",
    "\n",
    "The function `raster_grid_to_pv2d_struct` creates a 2D PyVista `StructuredGrid`, representing a surface. The grid's fields are included in the data structure as **Data Arrays**."
   ]
  },
  {
   "cell_type": "code",
   "execution_count": null,
   "id": "9fa0792a-dde2-49ab-8559-cc88618d8483",
   "metadata": {},
   "outputs": [],
   "source": [
    "strucgrid_2d_nodes = raster_grid_to_pv2d_struct(rmg, \"topographic__elevation\")\n",
    "strucgrid_2d_nodes"
   ]
  },
  {
   "cell_type": "code",
   "execution_count": null,
   "id": "8667612a-959a-4ca3-b78b-0cba396d1925",
   "metadata": {},
   "outputs": [],
   "source": [
    "strucgrid_2d_nodes.plot(show_edges=True)"
   ]
  },
  {
   "cell_type": "markdown",
   "id": "b1891abc-d503-40b9-a363-e616044bf73e",
   "metadata": {},
   "source": [
    "To color by a different field, use the `set_active_scalars()` method:"
   ]
  },
  {
   "cell_type": "code",
   "execution_count": null,
   "id": "290ede7e-03cf-49e5-b326-59eebe5e734b",
   "metadata": {},
   "outputs": [],
   "source": [
    "strucgrid_2d_nodes.set_active_scalars('topographic__gradient')\n",
    "strucgrid_2d_nodes.plot(show_edges=True)"
   ]
  },
  {
   "cell_type": "markdown",
   "id": "84847e35-62b1-476f-aa99-be1584f98181",
   "metadata": {},
   "source": [
    "We can also deactivate coloring:"
   ]
  },
  {
   "cell_type": "code",
   "execution_count": null,
   "id": "3dcda505-5654-4491-b911-cb6cbe80a384",
   "metadata": {},
   "outputs": [],
   "source": [
    "strucgrid_2d_nodes.set_active_scalars(None)\n",
    "strucgrid_2d_nodes.plot(show_edges=True)"
   ]
  },
  {
   "cell_type": "markdown",
   "id": "fa7460e6-4294-4f48-bafc-a9321fa0db5d",
   "metadata": {},
   "source": [
    "The above examples use the landlab grid's *nodes* and *patches*. We can also use *corners* and *cells*. This generates a mesh of 79 by 79 points, since that's the shape of *corners* in our grid (one fewer than nodes in each dimension)."
   ]
  },
  {
   "cell_type": "code",
   "execution_count": null,
   "id": "a3794050-4b4d-4b80-aa23-46b2481798c0",
   "metadata": {},
   "outputs": [],
   "source": [
    "strucgrid_2d_corners = raster_grid_to_pv2d_struct(rmg, \"z_at_corners\", at=\"corner\")\n",
    "strucgrid_2d_corners"
   ]
  },
  {
   "cell_type": "code",
   "execution_count": null,
   "id": "f0c9c599-60bb-4cf0-94ab-2f8d05b3d8fe",
   "metadata": {},
   "outputs": [],
   "source": [
    "strucgrid_2d_corners.plot(show_edges=True)"
   ]
  },
  {
   "cell_type": "markdown",
   "id": "2517312d-5f51-49ea-a9db-857febfae980",
   "metadata": {},
   "source": [
    "## Created a 3D mesh object\n",
    "\n",
    "The function `raster_grid_to_pv3d_struct` is quite similar, but it creates a fully 3D mesh. The mesh consists of two layers. The top layer is the topography (or, more generally, whatever field we happened to use for the $z$ coordinate). The bottom layer is flat, and located by default a distance $h$ below the lowest surface point, where $h$ is half the widest extent of the grid. (You can override this by passing a different `depth` value (measured downward from $z=0$)."
   ]
  },
  {
   "cell_type": "code",
   "execution_count": null,
   "id": "e54dce87-1fbf-433a-b973-6b0e3f35267e",
   "metadata": {},
   "outputs": [],
   "source": [
    "strucgrid_3d_nodes = raster_grid_to_pv3d_struct(rmg, \"topographic__elevation\")\n",
    "strucgrid_3d_nodes"
   ]
  },
  {
   "cell_type": "code",
   "execution_count": null,
   "id": "761ffbf6-c6eb-4371-9fa2-852dea44aec5",
   "metadata": {
    "scrolled": true
   },
   "outputs": [],
   "source": [
    "strucgrid_3d_nodes.plot(show_edges=True)"
   ]
  },
  {
   "cell_type": "markdown",
   "id": "4bc982eb-bf30-46cf-9e3e-4bf240068989",
   "metadata": {},
   "source": [
    "## Combining node-link-patch and corner-face-cell meshes in a Plotter\n",
    "\n",
    "The example below plots both of the Landlab dual meshes together: the nodes-links-patches mesh and the corners-faces-cells mesh. In this example, nodes are shown in black, links in red, faces in blue."
   ]
  },
  {
   "cell_type": "code",
   "execution_count": null,
   "id": "e8bc0f7b-bac8-40f2-ad88-e615af55b933",
   "metadata": {},
   "outputs": [],
   "source": [
    "pl = pv.Plotter()\n",
    "pl.add_mesh(strucgrid_2d_nodes, color=\"red\", style=\"wireframe\", line_width=1)\n",
    "pl.add_mesh(strucgrid_2d_corners, color=\"blue\", style=\"wireframe\", line_width=1)\n",
    "pl.add_points(\n",
    "    strucgrid_2d_nodes.points, color='black', point_size=4, render_points_as_spheres=True\n",
    ")\n",
    "pl.show()"
   ]
  },
  {
   "cell_type": "markdown",
   "id": "29698a9c-f1dc-4fc4-b94c-dedb6a06968f",
   "metadata": {},
   "source": [
    "## Options\n",
    "\n",
    "The function signatures for the two landlab-to-pyvista raster conversion functions illustrate the available optional parameters:"
   ]
  },
  {
   "cell_type": "code",
   "execution_count": null,
   "id": "08d48ddd-dcc6-4ef2-aa91-cc454e487134",
   "metadata": {},
   "outputs": [],
   "source": [
    "help(raster_grid_to_pv2d_struct)"
   ]
  },
  {
   "cell_type": "code",
   "execution_count": null,
   "id": "12e8cc34-4874-41fa-acc0-565a3bff26f0",
   "metadata": {},
   "outputs": [],
   "source": [
    "help(raster_grid_to_pv3d_struct)"
   ]
  },
  {
   "cell_type": "markdown",
   "id": "59fe474f-01de-49be-9ca9-1a021fc2d174",
   "metadata": {},
   "source": [
    "Coming soon (geologically), I hope, will be:\n",
    "\n",
    "- Functions to do similar translation for other Landlab grid types\n",
    "- Examples of how to read Landlab output in .vtk format directly into a PyVista data structure\n",
    "- Function(s) to translate a grid into a compound PyVista data structure that includes both node/patch and corner/cell geometry\n",
    "- The ability to translate fields on cells or patches\n",
    "- Some kind of widget-like tools to flip between different fields\n",
    "- A function to compile multiple fields-as-surfaces; for example `topographic__elevation` and `bedrock_surface__elevation` might both represent meaningful surfaces to be plotted together\n",
    "- A way to provide time-animation\n",
    "- A function to represent a drainage network as a mesh of line segments\n",
    "- A way to include vector data using arrow glyphs or similar (e.g., flow velocity, sediment transport, etc.)\n",
    "- EPIC: a reasonably comprehensive visualization tool/widget-set for visualizing landlab output generally"
   ]
  }
 ],
 "metadata": {
  "kernelspec": {
   "display_name": "Python 3 (ipykernel)",
   "language": "python",
   "name": "python3"
  },
  "language_info": {
   "codemirror_mode": {
    "name": "ipython",
    "version": 3
   },
   "file_extension": ".py",
   "mimetype": "text/x-python",
   "name": "python",
   "nbconvert_exporter": "python",
   "pygments_lexer": "ipython3",
   "version": "3.13.3"
  }
 },
 "nbformat": 4,
 "nbformat_minor": 5
}

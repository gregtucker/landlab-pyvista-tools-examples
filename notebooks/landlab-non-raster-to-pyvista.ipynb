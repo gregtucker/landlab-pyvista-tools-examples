{
 "cells": [
  {
   "cell_type": "markdown",
   "id": "47b0f1a6-861a-4b6d-b522-02a65f4bcf12",
   "metadata": {},
   "source": [
    "# Translating a Landlab non-raster grid into PyVista for visualization\n",
    "\n",
    "*Greg Tucker, CU Boulder, June 2025*\n",
    "\n",
    "PyVista offers powerful 3D visualization capabilities for geoscientific data. This tutorial shows how to translate a non-raster Landlab grid into a pair of PyVista objects that can be viewed interactively as 3D surfaces.\n",
    "\n",
    "The `llpytools` package offers a function called `grid_to_pv` that translates the contents of a Landlab grid and its fields into (generally) two PyVista mesh objects, one for each of the two dual meshes that compose most Landlab grids. In one of the resulting PyVista meshes, the points are Landlab grid *nodes* and the cells are Landlab grid *patches*. In the other, the points are Landlab grid *corners* and the cells are Landlab grid *cells*.\n",
    "\n",
    "## The dual nature of Landlab grids\n",
    "\n",
    "Most Landlab grid types contain two complementary or \"dual\" meshes. One mesh is built around a set of points called *nodes*. Adjacent pairs of nodes are joined by directed line segments called *links*. Nodes form the vertices for a set of polygons called *patches*. In a `RasterModelGrid`, for example, the nodes are arranged in a regular, rectilinear pattern; its patches are rectangles, and the links are the edges of these rectangles. In a `HexModelGrid`, the nodes are the vertices of a set of equilateral triangles. (For illustrations and examples, see Hobley et al. (2017)).\n",
    "\n",
    "In addition to the mesh of nodes-links-patches, a Landlab grid (other than the special `NetworkModelGrid`) contains a dual mesh. The elements of this dual mesh are called, in Landlab terminology, corners, faces, and cells. In a `RasterModelGrid`, this dual is itself a regular rectilinear grid. In a grid that uses a Delaunay triangulation for nodes, the dual mesh is a Voronoi diagram. This reflects the fact that the Delaunay triangular and Voronoi tesselation are dual to one another: each Vornoi polygon represents the area of space that is closer to the node within it than to any other node in the grid, and the vertices of the Voronoi polygons are the circumcenters of the Delaunay triangles.\n",
    "\n",
    "Part of the motivation for this dual-mesh model is to support the implementation of finite-difference and finite-volume numerical methods on Landlab grids. Finite-difference methods need to have discrete points at which solutions are tracked; finite-volume methods (in 2d) require polygons. Having a dual mesh allows one to have both of these: every *cell* in a Landlab grid has a *node* inside; all nodes except those around the perimeter sit inside cells. For more, see Hobley et al. (2017) and Barnhart et al. (2020). Many Landlab components use a combination of nodes, links, and cells; it is also possible, though less widely done to date, to use corners, faces, and patches.\n",
    "\n",
    "## A note on terminology\n",
    "\n",
    "Landlab and PyVista use somewhat different terminology for grid elements. In PyVista, a *cell* is a 2d or 3d geometric object. In Landlab, *cell* refers to a polygon in one of a grid's two complementary meshes. In this tutorial, the two will generally be distinguished by referring specifically to a \"Landlab cell\" or \"PyVista cell\"."
   ]
  },
  {
   "cell_type": "code",
   "execution_count": null,
   "id": "c22015c2-1658-48fb-bd51-113715b2c349",
   "metadata": {},
   "outputs": [],
   "source": [
    "import numpy as np\n",
    "import pyvista as pv\n",
    "from llpvtools import grid_to_pv\n",
    "from landlab import (\n",
    "    IcosphereGlobalGrid,\n",
    "    NetworkModelGrid,\n",
    "    RadialModelGrid,\n",
    "    imshow_grid,\n",
    ")\n",
    "from landlab.plot.graph import plot_graph"
   ]
  },
  {
   "cell_type": "markdown",
   "id": "7496e867-fa1c-423d-9a07-c02ac8399ccf",
   "metadata": {},
   "source": [
    "## A tiny example\n",
    "\n",
    "To illustrate how Landlab's data structures translate into PyVista's, it is useful to start with a tiny example. Here we create a Landlab `RadialModelGrid`, a type of grid that uses a Delaunay triangulation to connect *nodes* into a mesh of triangular *patches*, and a corresponding Voronoi diagram that defines the Landlab *cells* and their vertices, which in Landlab-speak are called *corners*.\n",
    "\n",
    "This mesh will have 2 *rings*, meaning that the grid has a central node plus two \"rings\" of nodes. We will ask Landlab to put 5 nodes in the innermost (first) ring. This arrangement will create a node-link-patch mesh with 16 nodes, 35 links, and 20 triangular patches. The dual mesh will have 19 nodes, 25 faces, and 6 cells. One of the 6 cells will be a pentagon; the others will be hexagons: a useful arrangement if we want to demonstrate translation of a Landlab grid that has polygons with differing numbers of sides.\n",
    "\n",
    "Here we create the grid and add two fields: one at nodes, and one at corners."
   ]
  },
  {
   "cell_type": "code",
   "execution_count": null,
   "id": "b6587de6-8d44-4ffe-a0d1-1503cab07dc8",
   "metadata": {},
   "outputs": [],
   "source": [
    "rmg = RadialModelGrid(n_rings=2, nodes_in_first_ring=5)\n",
    "zn = rmg.add_zeros(\"z_at_node\", at=\"node\")\n",
    "zn[:] = 2.0 - np.sqrt(rmg.x_of_node**2 + rmg.y_of_node**2)\n",
    "zc = rmg.add_zeros(\"z_at_corner\", at=\"corner\")\n",
    "zc[:] = 2.0 - np.sqrt(rmg.x_of_corner**2 + rmg.y_of_corner**2)"
   ]
  },
  {
   "cell_type": "markdown",
   "id": "b01b6113-efac-4c4c-989a-aa4be99f8ee3",
   "metadata": {},
   "source": [
    "Here's what the data structure looks like:"
   ]
  },
  {
   "cell_type": "code",
   "execution_count": null,
   "id": "0b502d3e-0ef4-43f3-a607-fe5539c86100",
   "metadata": {},
   "outputs": [],
   "source": [
    "rmg"
   ]
  },
  {
   "cell_type": "markdown",
   "id": "c864131c-4286-4705-9786-ea1eca673bae",
   "metadata": {},
   "source": [
    "Landlab's `plot_graph()` function displays the mesh elements. By default, `plot_graph()` displays nodes, links, and patches, together with their ID numbers:"
   ]
  },
  {
   "cell_type": "code",
   "execution_count": null,
   "id": "08ef42d8-d1d0-4e38-960b-cd7e50be4c2d",
   "metadata": {},
   "outputs": [],
   "source": [
    "plot_graph(rmg)"
   ]
  },
  {
   "cell_type": "markdown",
   "id": "47082c34-feae-4ee7-a846-d52330004765",
   "metadata": {},
   "source": [
    "The `at` keyword allows us to specify the elements of the dual mesh: corners, faces, and cells:"
   ]
  },
  {
   "cell_type": "code",
   "execution_count": null,
   "id": "ceb89549-b81f-4103-8365-98a6e2367db6",
   "metadata": {},
   "outputs": [],
   "source": [
    "plot_graph(rmg, at=\"corner,face,cell\")"
   ]
  },
  {
   "cell_type": "markdown",
   "id": "efd8d552-c5fa-42f8-834b-0c81c9ed1947",
   "metadata": {},
   "source": [
    "## Translating to PyVista and plotting\n",
    "\n",
    "The `llpvtools` function `grid_to_pv` translates a Landlab grid into two PyVista mesh objects, one for each of the two complementary Landlab meshes. The specific type of PyVista data object depends on the type of Landlab grid. In this next example, the type will be `UnstructuredGrid`."
   ]
  },
  {
   "cell_type": "code",
   "execution_count": null,
   "id": "295414af-0168-45a7-8aad-e7dc635fbcae",
   "metadata": {},
   "outputs": [],
   "source": [
    "pv_node_mesh, pv_cnr_mesh = grid_to_pv(rmg, field_for_node_z=zn, field_for_corner_z=zc)\n",
    "print(type(pv_node_mesh), type(pv_cnr_mesh))"
   ]
  },
  {
   "cell_type": "markdown",
   "id": "2d2fdf76-db59-4d0f-947d-f1fae9c67195",
   "metadata": {},
   "source": [
    "Once we have a PyVista mesh object for each of the two complementary Landlab meshes, we can display them with the object's `plot` method:"
   ]
  },
  {
   "cell_type": "code",
   "execution_count": null,
   "id": "048cb792-1cc1-4574-8296-865b745d7529",
   "metadata": {},
   "outputs": [],
   "source": [
    "pv_node_mesh.plot(show_edges=True)"
   ]
  },
  {
   "cell_type": "code",
   "execution_count": null,
   "id": "f636d01d-26d6-4b5f-a721-ccf295b2af66",
   "metadata": {},
   "outputs": [],
   "source": [
    "pv_cnr_mesh.plot(show_edges=True)"
   ]
  },
  {
   "cell_type": "markdown",
   "id": "1623cc91-2ecd-48db-b0b3-50a48b1599e6",
   "metadata": {},
   "source": [
    "### Rendering in 3D\n",
    "\n",
    "Setting the optional `make3d` parameter to `True` will create 3D objects by adding a base layer of nodes and corners, respectively, to the node and corner meshes. \n",
    "\n",
    "The optional arguments `values_for_node_base` and `values_for_corner_base` allow you to set $z$ coordinate values for the base of the object, which can be a constant, an array equal in length to the number of nodes or corners, or the name of a node or corner field in the grid."
   ]
  },
  {
   "cell_type": "code",
   "execution_count": null,
   "id": "c5e55a88-897a-4c6f-ae89-02e05856bfab",
   "metadata": {},
   "outputs": [],
   "source": [
    "pv_node_3d, pv_cnr_3d = grid_to_pv(\n",
    "    rmg, field_for_node_z=zn, field_for_corner_z=zc, make3d=True\n",
    ")"
   ]
  },
  {
   "cell_type": "code",
   "execution_count": null,
   "id": "e3cb5adc-8998-4680-8ae6-8f6a5fd4490f",
   "metadata": {},
   "outputs": [],
   "source": [
    "pv_node_3d.plot(show_edges=True)"
   ]
  },
  {
   "cell_type": "code",
   "execution_count": null,
   "id": "fab2016e-5a88-4e9d-aea7-30bd19ed2645",
   "metadata": {},
   "outputs": [],
   "source": [
    "pv_cnr_3d.plot(show_edges=True)"
   ]
  },
  {
   "cell_type": "markdown",
   "id": "d532639c-797d-4049-b7c4-7262def2ecf1",
   "metadata": {},
   "source": [
    "## Visualizing an `IcosphereGlobalGrid`\n",
    "\n",
    "Landlab's `IcosphereGlobalGrid` creates a quasi-spherical grid using the same dual mesh approach as with other grid types. The `mesh_densification_level` parameter determines the resolution of the grid. If no densification is applied (which is the default), the two dual meshes consist of an icosahedron (twenty triangular sides, like a \"d20\" in D&D) and a dodecahedron (twelve hexagonal sides, like a \"d12\").\n",
    "\n",
    "### Simple `IcosphereGlobalGrid` example: icosahedron and dodecahedron\n",
    "\n",
    "Here's a visualization of these shapes using PyVista:"
   ]
  },
  {
   "cell_type": "code",
   "execution_count": null,
   "id": "2704b508-41e2-4747-8fc0-7731bce6735d",
   "metadata": {},
   "outputs": [],
   "source": [
    "ggrid = IcosphereGlobalGrid()"
   ]
  },
  {
   "cell_type": "code",
   "execution_count": null,
   "id": "40e097f9-056f-4cdc-9e51-78ff4b0d21cc",
   "metadata": {},
   "outputs": [],
   "source": [
    "pv_global_node_mesh, pv_global_cnr_mesh = grid_to_pv(ggrid)"
   ]
  },
  {
   "cell_type": "code",
   "execution_count": null,
   "id": "ba95c460-a031-48d7-8f9d-d234635ae46b",
   "metadata": {},
   "outputs": [],
   "source": [
    "pv_global_node_mesh.plot(show_edges=True)"
   ]
  },
  {
   "cell_type": "code",
   "execution_count": null,
   "id": "f9258590-9c0b-47a4-a1a5-ea4e3453e297",
   "metadata": {},
   "outputs": [],
   "source": [
    "pv_global_cnr_mesh.plot(show_edges=True)"
   ]
  },
  {
   "cell_type": "markdown",
   "id": "e50cba2d-ce88-48e6-901f-92188f5ee78f",
   "metadata": {},
   "source": [
    "If there are no fields in the grid, all of the polygons will have the same color. If we add one or more fields, we can use these to color the faces. Here we'll add a cell field and a node field with a simple 1-12 numbering:"
   ]
  },
  {
   "cell_type": "code",
   "execution_count": null,
   "id": "f5a8ad72-e573-4531-9a26-a28f019ff820",
   "metadata": {},
   "outputs": [],
   "source": [
    "ggrid = IcosphereGlobalGrid()\n",
    "c = np.arange(1, 13)\n",
    "ggrid.add_field(\"node_value\", c, at=\"node\")\n",
    "ggrid.add_field(\"cell_value\", c, at=\"cell\")\n",
    "pv_global_node_mesh, pv_global_cnr_mesh = grid_to_pv(ggrid)"
   ]
  },
  {
   "cell_type": "code",
   "execution_count": null,
   "id": "7ca2a723-162c-4ad9-bcc1-d108dbcdf90f",
   "metadata": {
    "scrolled": true
   },
   "outputs": [],
   "source": [
    "pv_global_node_mesh.plot(show_edges=True)"
   ]
  },
  {
   "cell_type": "markdown",
   "id": "2cb0830b-118b-4896-90e9-91278ab02180",
   "metadata": {},
   "source": [
    "Because the values are associated with nodes, PyVista will interpolate to create a gradational color across the triangular patches. By contrast, when values are associated with polygons---in this case, the Landlab grid's cells, a single uniform color will be applied across the polygon surface:"
   ]
  },
  {
   "cell_type": "code",
   "execution_count": null,
   "id": "cc0faed4-c108-4815-ad31-1d1bf0bd82c4",
   "metadata": {
    "scrolled": true
   },
   "outputs": [],
   "source": [
    "pv_global_cnr_mesh.plot(show_edges=True)"
   ]
  },
  {
   "cell_type": "markdown",
   "id": "55b8223e-a8c9-4653-a4ab-975948222574",
   "metadata": {},
   "source": [
    "### Example of global topography\n",
    "\n",
    "In this example, we create an `IcosphereGlobalGrid` with a mesh densification level of five, representing a point spacing of about 240 km, and read in a global topography file with elevation values corresponding to that geometry:"
   ]
  },
  {
   "cell_type": "code",
   "execution_count": null,
   "id": "e7c64ffa-cc07-4529-8a1e-ee48ad8a6624",
   "metadata": {},
   "outputs": [],
   "source": [
    "gtgrid = IcosphereGlobalGrid(radius=6372000.0, mesh_densification_level=5)\n",
    "topo_data = np.loadtxt(\"global_elevation_etopo_ico_level5.txt\")\n",
    "topo = gtgrid.add_field(\"topographic__elevation\", topo_data, at=\"node\")\n",
    "celltopo = gtgrid.add_field(\"topographic__elevation\", topo_data, at=\"cell\")\n",
    "pv_global_node_mesh, pv_global_cnr_mesh = grid_to_pv(gtgrid)"
   ]
  },
  {
   "cell_type": "code",
   "execution_count": null,
   "id": "74783b29-9e2c-4b8e-8811-3620c2a9631d",
   "metadata": {},
   "outputs": [],
   "source": [
    "pv_global_cnr_mesh.plot()"
   ]
  },
  {
   "cell_type": "markdown",
   "id": "869bfe87-82ae-41ce-bb21-70974223bae9",
   "metadata": {},
   "source": [
    "By the way, if we want to check the spacing between grid points, we can take advantage of the `length_of_link` attribute:"
   ]
  },
  {
   "cell_type": "code",
   "execution_count": null,
   "id": "25873a4b-ccde-4dcd-ab8a-e9d02c4562f5",
   "metadata": {},
   "outputs": [],
   "source": [
    "print(\n",
    "    \"The spacing between grid nodes is\",\n",
    "    np.round(np.mean(gtgrid.length_of_link) / 1000.0, 1),\n",
    "    \"plus or minus\",\n",
    "    np.round(np.std(gtgrid.length_of_link) / 1000.0, 1),\n",
    "    \"km\",\n",
    ")"
   ]
  },
  {
   "cell_type": "markdown",
   "id": "3b78b79e-d8da-4e27-98e1-ec5be2d92773",
   "metadata": {},
   "source": [
    "## Visualizing a `NetworkModelGrid`\n",
    "\n",
    "A `NetworkModelGrid` is a special type of Landlab grid that represents the nodes and links in a network. Unlike other grid types, a `NetworkModelGrid` *only* has nodes and links, and does not have patches, cells, corners, or faces.\n",
    "\n",
    "When passed a `NetworkModelGrid`, the `grid_to_pv()` function returns only one rather than two PyVista meshes (the second return will be `None`). The return is a PyVista `UnstructuredGrid` object that contains lines instead of cells. Any node fields in the original Landlab grid will be added to the `UnstructuredGrid` as `point_data`, as usual. *Any link fields will be added as* `cell_data` (because PyVista considers the lines to be a form of cell) , so that links in a `NetworkModelGrid` can be colored according to any desired *link* field.\n",
    "\n",
    "The example below creates, translates, and visualizes a tiny `NetworkModelGrid`:"
   ]
  },
  {
   "cell_type": "code",
   "execution_count": null,
   "id": "67ff8cbb-2074-44fe-9be1-c54229415dcf",
   "metadata": {},
   "outputs": [],
   "source": [
    "y_of_node = (0, 1, 2, 2, 3, 3)\n",
    "x_of_node = (0, 0, -0.5, 0.5, 0, 1)\n",
    "z_of_node = (0., 0.1, 0.4, 0.3, 0.6, 0.6)\n",
    "nodes_at_link = ((0, 1), (2, 1), (1, 3), (3, 4), (3, 5))\n",
    "nmg = NetworkModelGrid((y_of_node, x_of_node), nodes_at_link)\n",
    "z = nmg.add_field(\"node_elevation\", z_of_node, at=\"node\")\n",
    "order = nmg.add_field(\"stream_order\", np.array([3, 2, 2, 1, 1]), at=\"link\")"
   ]
  },
  {
   "cell_type": "markdown",
   "id": "23a9165e-768c-4292-a7f3-390a9b00886b",
   "metadata": {},
   "source": [
    "The Landlab `plot_graph()` function allows us to visualize the network structure and the numbering of nodes and links. (Note that the link directions do *not* indicate anything about flow direction; they just follow the Landlab convention that links \"point\" toward the upper-right half-space.)"
   ]
  },
  {
   "cell_type": "code",
   "execution_count": null,
   "id": "d3ac3058-18d8-4c79-8779-9dfea153d994",
   "metadata": {},
   "outputs": [],
   "source": [
    "plot_graph(nmg, at=\"node,link\")"
   ]
  },
  {
   "cell_type": "markdown",
   "id": "e9cee168-0954-421b-b9e3-48bc7eb13a35",
   "metadata": {},
   "source": [
    "Translate to a PyVista object and plot (leaving the second return blank since in this case there is only one):"
   ]
  },
  {
   "cell_type": "code",
   "execution_count": null,
   "id": "4b82c3ea-3496-4907-9dbb-efc34c314799",
   "metadata": {},
   "outputs": [],
   "source": [
    "pv_nmg, _ = grid_to_pv(nmg, field_for_node_z=z)\n",
    "pv_nmg.plot()"
   ]
  },
  {
   "cell_type": "markdown",
   "id": "7d98b3c8-6c4e-4b89-9d4c-70a8e870da4e",
   "metadata": {},
   "source": [
    "To visualize a link-based quantity, in this case the `stream_order` field that we created (representing Strahler stream order), we simply switch the active scalar:"
   ]
  },
  {
   "cell_type": "code",
   "execution_count": null,
   "id": "b468ba37-d5f7-4644-a88e-8213d447b556",
   "metadata": {},
   "outputs": [],
   "source": [
    "pv_nmg.set_active_scalars('stream_order')\n",
    "pv_nmg.plot()"
   ]
  }
 ],
 "metadata": {
  "kernelspec": {
   "display_name": "Python 3 (ipykernel)",
   "language": "python",
   "name": "python3"
  },
  "language_info": {
   "codemirror_mode": {
    "name": "ipython",
    "version": 3
   },
   "file_extension": ".py",
   "mimetype": "text/x-python",
   "name": "python",
   "nbconvert_exporter": "python",
   "pygments_lexer": "ipython3",
   "version": "3.13.3"
  }
 },
 "nbformat": 4,
 "nbformat_minor": 5
}
